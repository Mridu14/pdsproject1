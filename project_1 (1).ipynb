{
  "nbformat": 4,
  "nbformat_minor": 0,
  "metadata": {
    "colab": {
      "provenance": []
    },
    "kernelspec": {
      "name": "python3",
      "display_name": "Python 3"
    },
    "language_info": {
      "name": "python"
    }
  },
  "cells": [
    {
      "cell_type": "markdown",
      "source": [
        "\n",
        "\n",
        "## 1.   Import Libraries\n",
        "\n",
        "\n"
      ],
      "metadata": {
        "id": "c2FDGgUFviR2"
      }
    },
    {
      "cell_type": "code",
      "source": [
        "# Step 1: Import Libraries\n",
        "import pandas as pd\n",
        "import numpy as np\n",
        "import matplotlib.pyplot as plt\n",
        "import seaborn as sns\n",
        "from sklearn.model_selection import train_test_split\n",
        "from sklearn.feature_extraction.text import TfidfVectorizer\n",
        "from sklearn.linear_model import LogisticRegression\n",
        "from sklearn.ensemble import RandomForestClassifier, GradientBoostingClassifier\n",
        "from sklearn.metrics import accuracy_score, confusion_matrix, classification_report\n",
        "from sklearn.model_selection import GridSearchCV  # Import GridSearchCV"
      ],
      "metadata": {
        "id": "0-DbZdLdF6lP"
      },
      "execution_count": null,
      "outputs": []
    },
    {
      "cell_type": "code",
      "source": [
        "# Step 2: Load the Dataset\n",
        "df = pd.read_csv('/content/Amazon-Product-Reviews - Amazon Product Review (1).csv')\n",
        "# Display the first few rows of the dataset\n",
        "print(df.head())"
      ],
      "metadata": {
        "colab": {
          "base_uri": "https://localhost:8080/"
        },
        "id": "dvcJbuQH92fW",
        "outputId": "eaa9a041-ed5f-4bd1-a35b-0ef26702209d"
      },
      "execution_count": null,
      "outputs": [
        {
          "output_type": "stream",
          "name": "stdout",
          "text": [
            "  marketplace  customer_id       review_id  product_id  product_parent  \\\n",
            "0          US     11555559  R1QXC7AHHJBQ3O  B00IKPX4GY         2693241   \n",
            "1          US     31469372  R175VSRV6ZETOP  B00IKPYKWG         2693241   \n",
            "2          US     26843895  R2HRFF78MWGY19  B00IKPW0UA         2693241   \n",
            "3          US     19844868   R8Q39WPKYVSTX  B00LCHSHMS         2693241   \n",
            "4          US      1189852  R3RL4C8YP2ZCJL  B00IKPZ5V6         2693241   \n",
            "\n",
            "                           product_title product_category  star_rating  \\\n",
            "0  Fire HD 7, 7\" HD Display, Wi-Fi, 8 GB               PC            5   \n",
            "1  Fire HD 7, 7\" HD Display, Wi-Fi, 8 GB               PC            3   \n",
            "2  Fire HD 7, 7\" HD Display, Wi-Fi, 8 GB               PC            5   \n",
            "3  Fire HD 7, 7\" HD Display, Wi-Fi, 8 GB               PC            4   \n",
            "4  Fire HD 7, 7\" HD Display, Wi-Fi, 8 GB               PC            5   \n",
            "\n",
            "   helpful_votes  total_votes vine verified_purchase  \\\n",
            "0              0            0    N                 Y   \n",
            "1              0            0    N                 N   \n",
            "2              0            0    N                 Y   \n",
            "3              0            0    N                 N   \n",
            "4              0            0    N                 Y   \n",
            "\n",
            "                                     review_headline  \\\n",
            "0                                         Five Stars   \n",
            "1  Lots of ads Slow processing speed Occasionally...   \n",
            "2                            Well thought out device   \n",
            "3  Not all apps/games we were looking forward to ...   \n",
            "4                                         Five Stars   \n",
            "\n",
            "                                         review_body review_date  sentiment  \n",
            "0                                      Great love it  2015-08-31          1  \n",
            "1  Lots of ads<br />Slow processing speed<br />Oc...  2015-08-31          0  \n",
            "2  Excellent unit.  The versatility of this table...  2015-08-31          1  \n",
            "3  I bought this on Amazon Prime so I ended up bu...  2015-08-31          1  \n",
            "4  All Amazon products continue to meet my expect...  2015-08-31          1  \n",
            "<class 'pandas.core.frame.DataFrame'>\n",
            "RangeIndex: 30846 entries, 0 to 30845\n",
            "Data columns (total 16 columns):\n",
            " #   Column             Non-Null Count  Dtype \n",
            "---  ------             --------------  ----- \n",
            " 0   marketplace        30846 non-null  object\n",
            " 1   customer_id        30846 non-null  int64 \n",
            " 2   review_id          30846 non-null  object\n",
            " 3   product_id         30846 non-null  object\n",
            " 4   product_parent     30846 non-null  int64 \n",
            " 5   product_title      30846 non-null  object\n",
            " 6   product_category   30846 non-null  object\n",
            " 7   star_rating        30846 non-null  int64 \n",
            " 8   helpful_votes      30846 non-null  int64 \n",
            " 9   total_votes        30846 non-null  int64 \n",
            " 10  vine               30846 non-null  object\n",
            " 11  verified_purchase  30846 non-null  object\n",
            " 12  review_headline    30844 non-null  object\n",
            " 13  review_body        30842 non-null  object\n",
            " 14  review_date        30846 non-null  object\n",
            " 15  sentiment          30846 non-null  int64 \n",
            "dtypes: int64(6), object(10)\n",
            "memory usage: 3.8+ MB\n",
            "None\n"
          ]
        }
      ]
    },
    {
      "cell_type": "code",
      "source": [
        "# Step 3: Data Analysis\n",
        "print(\"\\nBasic Information:\")\n",
        "print(df.info())  # Show data types and non-null counts\n",
        "\n",
        "print(\"\\nSummary Statistics:\")\n",
        "print(df.describe())  # Summary statistics for numerical columns\n",
        "\n",
        "# Check for null values\n",
        "print(\"\\nNull Values in Each Column:\")\n",
        "print(df.isnull().sum())"
      ],
      "metadata": {
        "colab": {
          "base_uri": "https://localhost:8080/"
        },
        "id": "xT1qzMQxQ88s",
        "outputId": "180efdcc-4ac7-4c8d-bdc8-e370cdff7473"
      },
      "execution_count": null,
      "outputs": [
        {
          "output_type": "stream",
          "name": "stdout",
          "text": [
            "\n",
            "Basic Information:\n",
            "<class 'pandas.core.frame.DataFrame'>\n",
            "RangeIndex: 30842 entries, 0 to 30841\n",
            "Data columns (total 2 columns):\n",
            " #   Column       Non-Null Count  Dtype \n",
            "---  ------       --------------  ----- \n",
            " 0   review_body  30842 non-null  object\n",
            " 1   sentiment    30842 non-null  int64 \n",
            "dtypes: int64(1), object(1)\n",
            "memory usage: 482.0+ KB\n",
            "None\n",
            "\n",
            "Summary Statistics:\n",
            "          sentiment\n",
            "count  30842.000000\n",
            "mean       0.835354\n",
            "std        0.370866\n",
            "min        0.000000\n",
            "25%        1.000000\n",
            "50%        1.000000\n",
            "75%        1.000000\n",
            "max        1.000000\n",
            "\n",
            "Null Values in Each Column:\n",
            "review_body    0\n",
            "sentiment      0\n",
            "dtype: int64\n"
          ]
        }
      ]
    },
    {
      "cell_type": "code",
      "source": [
        "# Step 2: Data Preprocessing and Cleaning\n",
        "df = df[['review_body', 'sentiment']].copy()  # Selecting relevant columns\n",
        "df = df.dropna(subset=['review_body']).reset_index(drop=True)  # Drop missing values\n",
        "print(f\"Dataset shape after cleaning: {df.shape}\")\n",
        "# Check for missing values\n",
        "print(df.isnull().sum())\n",
        "\n",
        "\n"
      ],
      "metadata": {
        "colab": {
          "base_uri": "https://localhost:8080/"
        },
        "id": "0BMQXkgg99xF",
        "outputId": "71c6eb41-8e23-45dd-9e9f-a4a776fc821e"
      },
      "execution_count": null,
      "outputs": [
        {
          "output_type": "stream",
          "name": "stdout",
          "text": [
            "Dataset shape after cleaning: (30842, 2)\n",
            "review_body    0\n",
            "sentiment      0\n",
            "dtype: int64\n"
          ]
        }
      ]
    },
    {
      "cell_type": "code",
      "source": [
        "# Visualize the distribution of the target column (sentiment)\n",
        "sns.countplot(x='sentiment', data=df)\n",
        "plt.title('Sentiment Distribution')\n",
        "plt.show()\n"
      ],
      "metadata": {
        "colab": {
          "base_uri": "https://localhost:8080/",
          "height": 472
        },
        "id": "DIiG2LVUBHr3",
        "outputId": "a276fc22-d6d5-48fa-8fd5-65c2eeb20f4f"
      },
      "execution_count": null,
      "outputs": [
        {
          "output_type": "display_data",
          "data": {
            "text/plain": [
              "<Figure size 640x480 with 1 Axes>"
            ],
            "image/png": "[encoded data removed]"
          },
          "metadata": {}
        }
      ]
    },
    {
      "cell_type": "code",
      "source": [
        "# Train-Test Split Visualization (after splitting the data, we'll visualize the data later)\n",
        "# Convert 'sentiment' to numerical representation if it's categorical\n",
        "if df['sentiment'].dtype == object: # Check if 'sentiment' is of object type (likely categorical)\n",
        "    from sklearn.preprocessing import LabelEncoder\n",
        "    le = LabelEncoder()\n",
        "    df['sentiment_encoded'] = le.fit_transform(df['sentiment']) # Create new numerical column\n",
        "    correlation_matrix = df[['sentiment_encoded']].corr() # Calculate correlation for numerical columns\n",
        "else:\n",
        "    correlation_matrix = df[['sentiment']].corr() # Calculate correlation for numerical columns\n",
        "\n",
        "\n",
        "sns.heatmap(correlation_matrix, annot=True, cmap=\"coolwarm\")\n",
        "plt.title(\"Correlation Matrix\")\n",
        "plt.show()\n",
        "\n",
        "# Optional: Histogram of numerical columns (if any numerical features exist)\n",
        "numerical_columns = df.select_dtypes(include=['number']).columns\n",
        "if len(numerical_columns) > 0: # Check if there are numerical columns\n",
        "    df[numerical_columns].hist(bins=30, figsize=(15, 10), color='purple')\n",
        "    plt.suptitle(\"Histograms of Numerical Columns\")\n",
        "    plt.show()\n",
        "else:\n",
        "    print(\"No numerical columns found for histogram.\")"
      ],
      "metadata": {
        "colab": {
          "base_uri": "https://localhost:8080/",
          "height": 1000
        },
        "id": "6cyMikPJjYgE",
        "outputId": "af68f7db-e070-4c32-ea21-aabc15a33150"
      },
      "execution_count": null,
      "outputs": [
        {
          "output_type": "display_data",
          "data": {
            "text/plain": [
              "<Figure size 640x480 with 2 Axes>"
            ],
            "image/png": "[encoded data removed]"
          },
          "metadata": {}
        },
        {
          "output_type": "display_data",
          "data": {
            "text/plain": [
              "<Figure size 1500x1000 with 1 Axes>"
            ],
            "image/png": "[encoded data removed]"
          },
          "metadata": {}
        }
      ]
    },
    {
      "cell_type": "code",
      "source": [
        "# Step 4: Text Vectorization with TF-IDF\n",
        "X = df['review_body']  # Input text\n",
        "y = df['sentiment']    # Target variable\n",
        "\n",
        "# Split data into train and test sets (80% train, 20% test)\n",
        "X_train, X_test, y_train, y_test = train_test_split(X, y, test_size=0.2, random_state=42, stratify=y)"
      ],
      "metadata": {
        "id": "FbtMRvLnClG_"
      },
      "execution_count": null,
      "outputs": []
    },
    {
      "cell_type": "code",
      "source": [
        "X_train"
      ],
      "metadata": {
        "colab": {
          "base_uri": "https://localhost:8080/",
          "height": 458
        },
        "id": "g8K6nr_3O3My",
        "outputId": "9a0402d2-a1aa-4efc-81e5-e8a4a0546085"
      },
      "execution_count": null,
      "outputs": [
        {
          "output_type": "execute_result",
          "data": {
            "text/plain": [
              "21740    I don't like the fact that items cannot be del...\n",
              "18692                                                Great\n",
              "21008    Works very well but I haven't been able to cha...\n",
              "14124    I love my Kindle Fire HD tablet and use it eve...\n",
              "28448                              TOO MUCH ADVERTISING!!!\n",
              "                               ...                        \n",
              "9085     Terrible battery drain,had less than a week on...\n",
              "20567    I is a little hard in finding out how to work it.\n",
              "28204                                            Loving it\n",
              "2410     This is my third one. Was not impressed with t...\n",
              "19688                                       Love love love\n",
              "Name: review_body, Length: 24673, dtype: object"
            ],
            "text/html": [
              "<div>\n",
              "<style scoped>\n",
              "    .dataframe tbody tr th:only-of-type {\n",
              "        vertical-align: middle;\n",
              "    }\n",
              "\n",
              "    .dataframe tbody tr th {\n",
              "        vertical-align: top;\n",
              "    }\n",
              "\n",
              "    .dataframe thead th {\n",
              "        text-align: right;\n",
              "    }\n",
              "</style>\n",
              "<table border=\"1\" class=\"dataframe\">\n",
              "  <thead>\n",
              "    <tr style=\"text-align: right;\">\n",
              "      <th></th>\n",
              "      <th>review_body</th>\n",
              "    </tr>\n",
              "  </thead>\n",
              "  <tbody>\n",
              "    <tr>\n",
              "      <th>21740</th>\n",
              "      <td>I don't like the fact that items cannot be del...</td>\n",
              "    </tr>\n",
              "    <tr>\n",
              "      <th>18692</th>\n",
              "      <td>Great</td>\n",
              "    </tr>\n",
              "    <tr>\n",
              "      <th>21008</th>\n",
              "      <td>Works very well but I haven't been able to cha...</td>\n",
              "    </tr>\n",
              "    <tr>\n",
              "      <th>14124</th>\n",
              "      <td>I love my Kindle Fire HD tablet and use it eve...</td>\n",
              "    </tr>\n",
              "    <tr>\n",
              "      <th>28448</th>\n",
              "      <td>TOO MUCH ADVERTISING!!!</td>\n",
              "    </tr>\n",
              "    <tr>\n",
              "      <th>...</th>\n",
              "      <td>...</td>\n",
              "    </tr>\n",
              "    <tr>\n",
              "      <th>9085</th>\n",
              "      <td>Terrible battery drain,had less than a week on...</td>\n",
              "    </tr>\n",
              "    <tr>\n",
              "      <th>20567</th>\n",
              "      <td>I is a little hard in finding out how to work it.</td>\n",
              "    </tr>\n",
              "    <tr>\n",
              "      <th>28204</th>\n",
              "      <td>Loving it</td>\n",
              "    </tr>\n",
              "    <tr>\n",
              "      <th>2410</th>\n",
              "      <td>This is my third one. Was not impressed with t...</td>\n",
              "    </tr>\n",
              "    <tr>\n",
              "      <th>19688</th>\n",
              "      <td>Love love love</td>\n",
              "    </tr>\n",
              "  </tbody>\n",
              "</table>\n",
              "<p>24673 rows × 1 columns</p>\n",
              "</div><br><label><b>dtype:</b> object</label>"
            ]
          },
          "metadata": {},
          "execution_count": 19
        }
      ]
    },
    {
      "cell_type": "code",
      "source": [
        "X_test"
      ],
      "metadata": {
        "colab": {
          "base_uri": "https://localhost:8080/",
          "height": 458
        },
        "id": "2l-7T6DuO3VX",
        "outputId": "8d700aa4-9792-4fe7-e62a-ec75e48e9e70"
      },
      "execution_count": null,
      "outputs": [
        {
          "output_type": "execute_result",
          "data": {
            "text/plain": [
              "7808                Best value for any tablet on market!!!\n",
              "19199    100% happy.<br />Has all I was looking for + M...\n",
              "29498                                              love it\n",
              "9205     I like the new Kindle hd 7......but I absolute...\n",
              "14770    It's great ... extremely easy to use.  Excelle...\n",
              "                               ...                        \n",
              "21225                                         Works great.\n",
              "2810                                      My son loves it!\n",
              "22934    My husband got this for me for Christmas and I...\n",
              "20349    Wasn't looking for much: videos, newspapers, e...\n",
              "11217                             Small fits in my purse!!\n",
              "Name: review_body, Length: 6169, dtype: object"
            ],
            "text/html": [
              "<div>\n",
              "<style scoped>\n",
              "    .dataframe tbody tr th:only-of-type {\n",
              "        vertical-align: middle;\n",
              "    }\n",
              "\n",
              "    .dataframe tbody tr th {\n",
              "        vertical-align: top;\n",
              "    }\n",
              "\n",
              "    .dataframe thead th {\n",
              "        text-align: right;\n",
              "    }\n",
              "</style>\n",
              "<table border=\"1\" class=\"dataframe\">\n",
              "  <thead>\n",
              "    <tr style=\"text-align: right;\">\n",
              "      <th></th>\n",
              "      <th>review_body</th>\n",
              "    </tr>\n",
              "  </thead>\n",
              "  <tbody>\n",
              "    <tr>\n",
              "      <th>7808</th>\n",
              "      <td>Best value for any tablet on market!!!</td>\n",
              "    </tr>\n",
              "    <tr>\n",
              "      <th>19199</th>\n",
              "      <td>100% happy.&lt;br /&gt;Has all I was looking for + M...</td>\n",
              "    </tr>\n",
              "    <tr>\n",
              "      <th>29498</th>\n",
              "      <td>love it</td>\n",
              "    </tr>\n",
              "    <tr>\n",
              "      <th>9205</th>\n",
              "      <td>I like the new Kindle hd 7......but I absolute...</td>\n",
              "    </tr>\n",
              "    <tr>\n",
              "      <th>14770</th>\n",
              "      <td>It's great ... extremely easy to use.  Excelle...</td>\n",
              "    </tr>\n",
              "    <tr>\n",
              "      <th>...</th>\n",
              "      <td>...</td>\n",
              "    </tr>\n",
              "    <tr>\n",
              "      <th>21225</th>\n",
              "      <td>Works great.</td>\n",
              "    </tr>\n",
              "    <tr>\n",
              "      <th>2810</th>\n",
              "      <td>My son loves it!</td>\n",
              "    </tr>\n",
              "    <tr>\n",
              "      <th>22934</th>\n",
              "      <td>My husband got this for me for Christmas and I...</td>\n",
              "    </tr>\n",
              "    <tr>\n",
              "      <th>20349</th>\n",
              "      <td>Wasn't looking for much: videos, newspapers, e...</td>\n",
              "    </tr>\n",
              "    <tr>\n",
              "      <th>11217</th>\n",
              "      <td>Small fits in my purse!!</td>\n",
              "    </tr>\n",
              "  </tbody>\n",
              "</table>\n",
              "<p>6169 rows × 1 columns</p>\n",
              "</div><br><label><b>dtype:</b> object</label>"
            ]
          },
          "metadata": {},
          "execution_count": 20
        }
      ]
    },
    {
      "cell_type": "code",
      "source": [
        "y_train"
      ],
      "metadata": {
        "colab": {
          "base_uri": "https://localhost:8080/",
          "height": 458
        },
        "id": "zHRa4zfmO3Ze",
        "outputId": "e919360b-5d14-42cc-b4ee-39e20aac8aca"
      },
      "execution_count": null,
      "outputs": [
        {
          "output_type": "execute_result",
          "data": {
            "text/plain": [
              "21740    0\n",
              "18692    1\n",
              "21008    1\n",
              "14124    1\n",
              "28448    0\n",
              "        ..\n",
              "9085     0\n",
              "20567    0\n",
              "28204    1\n",
              "2410     1\n",
              "19688    1\n",
              "Name: sentiment, Length: 24673, dtype: int64"
            ],
            "text/html": [
              "<div>\n",
              "<style scoped>\n",
              "    .dataframe tbody tr th:only-of-type {\n",
              "        vertical-align: middle;\n",
              "    }\n",
              "\n",
              "    .dataframe tbody tr th {\n",
              "        vertical-align: top;\n",
              "    }\n",
              "\n",
              "    .dataframe thead th {\n",
              "        text-align: right;\n",
              "    }\n",
              "</style>\n",
              "<table border=\"1\" class=\"dataframe\">\n",
              "  <thead>\n",
              "    <tr style=\"text-align: right;\">\n",
              "      <th></th>\n",
              "      <th>sentiment</th>\n",
              "    </tr>\n",
              "  </thead>\n",
              "  <tbody>\n",
              "    <tr>\n",
              "      <th>21740</th>\n",
              "      <td>0</td>\n",
              "    </tr>\n",
              "    <tr>\n",
              "      <th>18692</th>\n",
              "      <td>1</td>\n",
              "    </tr>\n",
              "    <tr>\n",
              "      <th>21008</th>\n",
              "      <td>1</td>\n",
              "    </tr>\n",
              "    <tr>\n",
              "      <th>14124</th>\n",
              "      <td>1</td>\n",
              "    </tr>\n",
              "    <tr>\n",
              "      <th>28448</th>\n",
              "      <td>0</td>\n",
              "    </tr>\n",
              "    <tr>\n",
              "      <th>...</th>\n",
              "      <td>...</td>\n",
              "    </tr>\n",
              "    <tr>\n",
              "      <th>9085</th>\n",
              "      <td>0</td>\n",
              "    </tr>\n",
              "    <tr>\n",
              "      <th>20567</th>\n",
              "      <td>0</td>\n",
              "    </tr>\n",
              "    <tr>\n",
              "      <th>28204</th>\n",
              "      <td>1</td>\n",
              "    </tr>\n",
              "    <tr>\n",
              "      <th>2410</th>\n",
              "      <td>1</td>\n",
              "    </tr>\n",
              "    <tr>\n",
              "      <th>19688</th>\n",
              "      <td>1</td>\n",
              "    </tr>\n",
              "  </tbody>\n",
              "</table>\n",
              "<p>24673 rows × 1 columns</p>\n",
              "</div><br><label><b>dtype:</b> int64</label>"
            ]
          },
          "metadata": {},
          "execution_count": 8
        }
      ]
    },
    {
      "cell_type": "code",
      "source": [
        "y_test"
      ],
      "metadata": {
        "colab": {
          "base_uri": "https://localhost:8080/",
          "height": 458
        },
        "id": "GulfS8xoO3dV",
        "outputId": "d0853279-57ea-4f25-c0ba-812feb78ff3e"
      },
      "execution_count": null,
      "outputs": [
        {
          "output_type": "execute_result",
          "data": {
            "text/plain": [
              "7808     1\n",
              "19199    1\n",
              "29498    1\n",
              "9205     1\n",
              "14770    1\n",
              "        ..\n",
              "21225    1\n",
              "2810     1\n",
              "22934    1\n",
              "20349    1\n",
              "11217    1\n",
              "Name: sentiment, Length: 6169, dtype: int64"
            ],
            "text/html": [
              "<div>\n",
              "<style scoped>\n",
              "    .dataframe tbody tr th:only-of-type {\n",
              "        vertical-align: middle;\n",
              "    }\n",
              "\n",
              "    .dataframe tbody tr th {\n",
              "        vertical-align: top;\n",
              "    }\n",
              "\n",
              "    .dataframe thead th {\n",
              "        text-align: right;\n",
              "    }\n",
              "</style>\n",
              "<table border=\"1\" class=\"dataframe\">\n",
              "  <thead>\n",
              "    <tr style=\"text-align: right;\">\n",
              "      <th></th>\n",
              "      <th>sentiment</th>\n",
              "    </tr>\n",
              "  </thead>\n",
              "  <tbody>\n",
              "    <tr>\n",
              "      <th>7808</th>\n",
              "      <td>1</td>\n",
              "    </tr>\n",
              "    <tr>\n",
              "      <th>19199</th>\n",
              "      <td>1</td>\n",
              "    </tr>\n",
              "    <tr>\n",
              "      <th>29498</th>\n",
              "      <td>1</td>\n",
              "    </tr>\n",
              "    <tr>\n",
              "      <th>9205</th>\n",
              "      <td>1</td>\n",
              "    </tr>\n",
              "    <tr>\n",
              "      <th>14770</th>\n",
              "      <td>1</td>\n",
              "    </tr>\n",
              "    <tr>\n",
              "      <th>...</th>\n",
              "      <td>...</td>\n",
              "    </tr>\n",
              "    <tr>\n",
              "      <th>21225</th>\n",
              "      <td>1</td>\n",
              "    </tr>\n",
              "    <tr>\n",
              "      <th>2810</th>\n",
              "      <td>1</td>\n",
              "    </tr>\n",
              "    <tr>\n",
              "      <th>22934</th>\n",
              "      <td>1</td>\n",
              "    </tr>\n",
              "    <tr>\n",
              "      <th>20349</th>\n",
              "      <td>1</td>\n",
              "    </tr>\n",
              "    <tr>\n",
              "      <th>11217</th>\n",
              "      <td>1</td>\n",
              "    </tr>\n",
              "  </tbody>\n",
              "</table>\n",
              "<p>6169 rows × 1 columns</p>\n",
              "</div><br><label><b>dtype:</b> int64</label>"
            ]
          },
          "metadata": {},
          "execution_count": 21
        }
      ]
    },
    {
      "cell_type": "code",
      "source": [
        "# Initialize TF-IDF Vectorizer with 5000 max features\n",
        "tfidf_vectorizer = TfidfVectorizer(max_features=5000, stop_words='english')\n",
        "X_train_tfidf = tfidf_vectorizer.fit_transform(X_train)\n",
        "X_test_tfidf = tfidf_vectorizer.transform(X_test)\n"
      ],
      "metadata": {
        "id": "qrvnSqShClMW"
      },
      "execution_count": null,
      "outputs": []
    },
    {
      "cell_type": "code",
      "source": [
        "X_train_tfidf"
      ],
      "metadata": {
        "colab": {
          "base_uri": "https://localhost:8080/"
        },
        "id": "okk-dOTWSSLc",
        "outputId": "e27ee80c-081a-4dc8-c5a2-b6da0677e805"
      },
      "execution_count": null,
      "outputs": [
        {
          "output_type": "execute_result",
          "data": {
            "text/plain": [
              "<24673x5000 sparse matrix of type '<class 'numpy.float64'>'\n",
              "\twith 302823 stored elements in Compressed Sparse Row format>"
            ]
          },
          "metadata": {},
          "execution_count": 35
        }
      ]
    },
    {
      "cell_type": "code",
      "source": [
        "X_test_tfidf"
      ],
      "metadata": {
        "colab": {
          "base_uri": "https://localhost:8080/"
        },
        "id": "LAsx_3y2SSV9",
        "outputId": "4b3abdc8-ec0f-47a9-df5b-1dd90f7c0f71"
      },
      "execution_count": null,
      "outputs": [
        {
          "output_type": "execute_result",
          "data": {
            "text/plain": [
              "<6169x5000 sparse matrix of type '<class 'numpy.float64'>'\n",
              "\twith 73406 stored elements in Compressed Sparse Row format>"
            ]
          },
          "metadata": {},
          "execution_count": 36
        }
      ]
    },
    {
      "cell_type": "code",
      "source": [
        "# Step 8: Different Classification Algorithms\n",
        "# Initialize models\n",
        "log_reg = LogisticRegression(max_iter=1000)\n",
        "random_forest = RandomForestClassifier(random_state=42, n_estimators=100)\n",
        "gradient_boost = GradientBoostingClassifier(n_estimators=200, learning_rate=0.1, random_state=42)\n",
        "\n",
        "# Train and evaluate each model\n",
        "models = {'Logistic Regression': log_reg, 'Random Forest': random_forest, 'Gradient Boosting': gradient_boost}\n",
        "\n",
        "for model_name, model in models.items():\n",
        "    # Train the model\n",
        "    model.fit(X_train_tfidf, y_train)\n",
        "    print(f\"\\n{model_name} trained successfully.\")\n"
      ],
      "metadata": {
        "colab": {
          "base_uri": "https://localhost:8080/"
        },
        "id": "qGFF-PsqkaF2",
        "outputId": "1e77653b-2c4c-4530-c67f-de311d6837f8"
      },
      "execution_count": null,
      "outputs": [
        {
          "output_type": "stream",
          "name": "stdout",
          "text": [
            "\n",
            "Logistic Regression trained successfully.\n",
            "\n",
            "Random Forest trained successfully.\n",
            "\n",
            "Gradient Boosting trained successfully.\n"
          ]
        }
      ]
    },
    {
      "cell_type": "code",
      "source": [
        "# Step 8: Different Classification Algorithms\n",
        "# Initialize models\n",
        "log_reg = LogisticRegression(max_iter=1000)\n",
        "random_forest = RandomForestClassifier(random_state=42, n_estimators=100)\n",
        "gradient_boost = GradientBoostingClassifier(n_estimators=200, learning_rate=0.1, random_state=42)\n",
        "\n",
        "# Train and evaluate each model\n",
        "models = {'Logistic Regression': log_reg, 'Random Forest': random_forest, 'Gradient Boosting': gradient_boost}\n",
        "\n",
        "for model_name, model in models.items():\n",
        "    # Train the model\n",
        "    model.fit(X_train_tfidf, y_train)\n",
        "    print(f\"\\n{model_name} trained successfully.\")\n",
        "\n",
        "    # Step 9: Predicting Outcome #Moved this block into the for loop\n",
        "    y_pred = model.predict(X_test_tfidf)\n",
        "    accuracy = accuracy_score(y_test, y_pred)\n",
        "    print(f\"\\n{model_name} Accuracy: {accuracy:.4f}\")\n",
        "\n",
        "    # Step 10: Confusion Matrix and Classification Report\n",
        "    print(f\"\\nConfusion Matrix for {model_name}:\")\n",
        "    conf_matrix = confusion_matrix(y_test, y_pred)\n",
        "    sns.heatmap(conf_matrix, annot=True, fmt='d', cmap='Blues')\n",
        "    plt.title(f'Confusion Matrix - {model_name}')\n",
        "    plt.xlabel('Predicted')\n",
        "    plt.ylabel('Actual')\n",
        "    plt.show()\n",
        "\n",
        "    print(f\"\\nClassification Report for {model_name}:\")\n",
        "    print(classification_report(y_test, y_pred))"
      ],
      "metadata": {
        "colab": {
          "base_uri": "https://localhost:8080/",
          "height": 1000
        },
        "id": "299G0DF5kaJa",
        "outputId": "c1d2c64d-6d3b-48b4-cf27-d4605ac0cd41"
      },
      "execution_count": null,
      "outputs": [
        {
          "output_type": "stream",
          "name": "stdout",
          "text": [
            "\n",
            "Logistic Regression trained successfully.\n",
            "\n",
            "Logistic Regression Accuracy: 0.9044\n",
            "\n",
            "Confusion Matrix for Logistic Regression:\n"
          ]
        },
        {
          "output_type": "display_data",
          "data": {
            "text/plain": [
              "<Figure size 640x480 with 2 Axes>"
            ],
            "image/png": "[encoded data removed]"
          },
          "metadata": {}
        },
        {
          "output_type": "stream",
          "name": "stdout",
          "text": [
            "\n",
            "Classification Report for Logistic Regression:\n",
            "              precision    recall  f1-score   support\n",
            "\n",
            "           0       0.79      0.58      0.67      1016\n",
            "           1       0.92      0.97      0.94      5153\n",
            "\n",
            "    accuracy                           0.90      6169\n",
            "   macro avg       0.85      0.77      0.80      6169\n",
            "weighted avg       0.90      0.90      0.90      6169\n",
            "\n",
            "\n",
            "Random Forest trained successfully.\n",
            "\n",
            "Random Forest Accuracy: 0.8909\n",
            "\n",
            "Confusion Matrix for Random Forest:\n"
          ]
        },
        {
          "output_type": "display_data",
          "data": {
            "text/plain": [
              "<Figure size 640x480 with 2 Axes>"
            ],
            "image/png": "[encoded data removed]"
          },
          "metadata": {}
        },
        {
          "output_type": "stream",
          "name": "stdout",
          "text": [
            "\n",
            "Classification Report for Random Forest:\n",
            "              precision    recall  f1-score   support\n",
            "\n",
            "           0       0.79      0.46      0.58      1016\n",
            "           1       0.90      0.97      0.94      5153\n",
            "\n",
            "    accuracy                           0.89      6169\n",
            "   macro avg       0.84      0.72      0.76      6169\n",
            "weighted avg       0.88      0.89      0.88      6169\n",
            "\n",
            "\n",
            "Gradient Boosting trained successfully.\n",
            "\n",
            "Gradient Boosting Accuracy: 0.8839\n",
            "\n",
            "Confusion Matrix for Gradient Boosting:\n"
          ]
        },
        {
          "output_type": "display_data",
          "data": {
            "text/plain": [
              "<Figure size 640x480 with 2 Axes>"
            ],
            "image/png": "[encoded data removed]"
          },
          "metadata": {}
        },
        {
          "output_type": "stream",
          "name": "stdout",
          "text": [
            "\n",
            "Classification Report for Gradient Boosting:\n",
            "              precision    recall  f1-score   support\n",
            "\n",
            "           0       0.79      0.40      0.53      1016\n",
            "           1       0.89      0.98      0.93      5153\n",
            "\n",
            "    accuracy                           0.88      6169\n",
            "   macro avg       0.84      0.69      0.73      6169\n",
            "weighted avg       0.88      0.88      0.87      6169\n",
            "\n"
          ]
        }
      ]
    },
    {
      "cell_type": "code",
      "source": [
        "# Step 5: Hyperparameter Tuning for Logistic Regression\n",
        "param_grid_logreg = {\n",
        "    'C': [0.01, 0.1, 1, 10, 100],  # Regularization strength\n",
        "    'solver': ['liblinear', 'lbfgs']\n",
        "}\n",
        "grid_logreg = GridSearchCV(LogisticRegression(max_iter=1000), param_grid_logreg, scoring='accuracy', cv=5, verbose=3)\n",
        "grid_logreg.fit(X_train_tfidf, y_train)\n",
        "best_logreg = grid_logreg.best_estimator_\n",
        "print(\"Best Logistic Regression Parameters:\", grid_logreg.best_params_)\n",
        "print(\"Best Logistic Regression Cross-Validated Score:\", grid_logreg.best_score_)\n"
      ],
      "metadata": {
        "colab": {
          "base_uri": "https://localhost:8080/"
        },
        "id": "TCDdVklvClRE",
        "outputId": "8f22b67a-f6a3-43a2-c68f-3951aee92ed7"
      },
      "execution_count": null,
      "outputs": [
        {
          "output_type": "stream",
          "name": "stdout",
          "text": [
            "Fitting 5 folds for each of 10 candidates, totalling 50 fits\n",
            "[CV 1/5] END ..........C=0.01, solver=liblinear;, score=0.835 total time=   0.0s\n",
            "[CV 2/5] END ..........C=0.01, solver=liblinear;, score=0.835 total time=   0.0s\n",
            "[CV 3/5] END ..........C=0.01, solver=liblinear;, score=0.835 total time=   0.0s\n",
            "[CV 4/5] END ..........C=0.01, solver=liblinear;, score=0.835 total time=   0.1s\n",
            "[CV 5/5] END ..........C=0.01, solver=liblinear;, score=0.835 total time=   0.0s\n",
            "[CV 1/5] END ..............C=0.01, solver=lbfgs;, score=0.835 total time=   0.0s\n",
            "[CV 2/5] END ..............C=0.01, solver=lbfgs;, score=0.835 total time=   0.0s\n",
            "[CV 3/5] END ..............C=0.01, solver=lbfgs;, score=0.835 total time=   0.0s\n",
            "[CV 4/5] END ..............C=0.01, solver=lbfgs;, score=0.835 total time=   0.0s\n",
            "[CV 5/5] END ..............C=0.01, solver=lbfgs;, score=0.835 total time=   0.0s\n",
            "[CV 1/5] END ...........C=0.1, solver=liblinear;, score=0.858 total time=   0.1s\n",
            "[CV 2/5] END ...........C=0.1, solver=liblinear;, score=0.858 total time=   0.1s\n",
            "[CV 3/5] END ...........C=0.1, solver=liblinear;, score=0.856 total time=   0.1s\n",
            "[CV 4/5] END ...........C=0.1, solver=liblinear;, score=0.854 total time=   0.1s\n",
            "[CV 5/5] END ...........C=0.1, solver=liblinear;, score=0.855 total time=   0.1s\n",
            "[CV 1/5] END ...............C=0.1, solver=lbfgs;, score=0.857 total time=   0.1s\n",
            "[CV 2/5] END ...............C=0.1, solver=lbfgs;, score=0.858 total time=   0.1s\n",
            "[CV 3/5] END ...............C=0.1, solver=lbfgs;, score=0.855 total time=   0.1s\n",
            "[CV 4/5] END ...............C=0.1, solver=lbfgs;, score=0.854 total time=   0.1s\n",
            "[CV 5/5] END ...............C=0.1, solver=lbfgs;, score=0.855 total time=   0.1s\n",
            "[CV 1/5] END .............C=1, solver=liblinear;, score=0.902 total time=   0.1s\n",
            "[CV 2/5] END .............C=1, solver=liblinear;, score=0.897 total time=   0.1s\n",
            "[CV 3/5] END .............C=1, solver=liblinear;, score=0.904 total time=   0.1s\n",
            "[CV 4/5] END .............C=1, solver=liblinear;, score=0.904 total time=   0.1s\n",
            "[CV 5/5] END .............C=1, solver=liblinear;, score=0.904 total time=   0.1s\n",
            "[CV 1/5] END .................C=1, solver=lbfgs;, score=0.901 total time=   0.1s\n",
            "[CV 2/5] END .................C=1, solver=lbfgs;, score=0.898 total time=   0.2s\n",
            "[CV 3/5] END .................C=1, solver=lbfgs;, score=0.905 total time=   0.2s\n",
            "[CV 4/5] END .................C=1, solver=lbfgs;, score=0.905 total time=   0.2s\n",
            "[CV 5/5] END .................C=1, solver=lbfgs;, score=0.903 total time=   0.2s\n",
            "[CV 1/5] END ............C=10, solver=liblinear;, score=0.902 total time=   0.2s\n",
            "[CV 2/5] END ............C=10, solver=liblinear;, score=0.892 total time=   0.2s\n",
            "[CV 3/5] END ............C=10, solver=liblinear;, score=0.906 total time=   0.2s\n",
            "[CV 4/5] END ............C=10, solver=liblinear;, score=0.900 total time=   0.2s\n",
            "[CV 5/5] END ............C=10, solver=liblinear;, score=0.900 total time=   0.2s\n",
            "[CV 1/5] END ................C=10, solver=lbfgs;, score=0.902 total time=   0.3s\n",
            "[CV 2/5] END ................C=10, solver=lbfgs;, score=0.894 total time=   0.2s\n",
            "[CV 3/5] END ................C=10, solver=lbfgs;, score=0.906 total time=   0.3s\n",
            "[CV 4/5] END ................C=10, solver=lbfgs;, score=0.900 total time=   0.4s\n",
            "[CV 5/5] END ................C=10, solver=lbfgs;, score=0.899 total time=   0.3s\n",
            "[CV 1/5] END ...........C=100, solver=liblinear;, score=0.884 total time=   0.4s\n",
            "[CV 2/5] END ...........C=100, solver=liblinear;, score=0.874 total time=   0.3s\n",
            "[CV 3/5] END ...........C=100, solver=liblinear;, score=0.886 total time=   0.3s\n",
            "[CV 4/5] END ...........C=100, solver=liblinear;, score=0.882 total time=   0.3s\n",
            "[CV 5/5] END ...........C=100, solver=liblinear;, score=0.877 total time=   0.3s\n",
            "[CV 1/5] END ...............C=100, solver=lbfgs;, score=0.885 total time=   0.3s\n",
            "[CV 2/5] END ...............C=100, solver=lbfgs;, score=0.876 total time=   0.3s\n",
            "[CV 3/5] END ...............C=100, solver=lbfgs;, score=0.889 total time=   0.3s\n",
            "[CV 4/5] END ...............C=100, solver=lbfgs;, score=0.884 total time=   0.3s\n",
            "[CV 5/5] END ...............C=100, solver=lbfgs;, score=0.880 total time=   0.3s\n",
            "Best Logistic Regression Parameters: {'C': 1, 'solver': 'lbfgs'}\n",
            "Best Logistic Regression Cross-Validated Score: 0.9022414288055216\n"
          ]
        }
      ]
    },
    {
      "cell_type": "code",
      "source": [
        "# Step 6: Hyperparameter Tuning for Random Forest\n",
        "param_grid_rf = {\n",
        "    'n_estimators': [50, 100, 200],\n",
        "    'max_depth': [None, 10, 20, 30],\n",
        "    'min_samples_split': [2, 5, 10],\n",
        "}\n",
        "grid_rf = GridSearchCV(RandomForestClassifier(random_state=42), param_grid_rf, scoring='accuracy', cv=5, verbose=3)\n",
        "grid_rf.fit(X_train_tfidf, y_train)\n",
        "best_rf = grid_rf.best_estimator_\n",
        "print(\"Best Random Forest Parameters:\", grid_rf.best_params_)\n",
        "print(\"Best Random Forest Cross-Validated Score:\", grid_rf.best_score_)\n"
      ],
      "metadata": {
        "colab": {
          "base_uri": "https://localhost:8080/"
        },
        "id": "7x3S7RGRQcCL",
        "outputId": "fe51bab3-b696-47a2-c5d3-5b7e08f7dc98"
      },
      "execution_count": null,
      "outputs": [
        {
          "output_type": "stream",
          "name": "stdout",
          "text": [
            "Fitting 5 folds for each of 36 candidates, totalling 180 fits\n",
            "[CV 1/5] END max_depth=None, min_samples_split=2, n_estimators=50;, score=0.891 total time=  14.0s\n",
            "[CV 2/5] END max_depth=None, min_samples_split=2, n_estimators=50;, score=0.886 total time=  13.5s\n",
            "[CV 3/5] END max_depth=None, min_samples_split=2, n_estimators=50;, score=0.886 total time=  14.2s\n",
            "[CV 4/5] END max_depth=None, min_samples_split=2, n_estimators=50;, score=0.887 total time=  13.5s\n",
            "[CV 5/5] END max_depth=None, min_samples_split=2, n_estimators=50;, score=0.887 total time=  13.6s\n",
            "[CV 1/5] END max_depth=None, min_samples_split=2, n_estimators=100;, score=0.893 total time=  28.0s\n",
            "[CV 2/5] END max_depth=None, min_samples_split=2, n_estimators=100;, score=0.884 total time=  26.9s\n",
            "[CV 3/5] END max_depth=None, min_samples_split=2, n_estimators=100;, score=0.887 total time=  28.5s\n",
            "[CV 4/5] END max_depth=None, min_samples_split=2, n_estimators=100;, score=0.888 total time=  27.1s\n",
            "[CV 5/5] END max_depth=None, min_samples_split=2, n_estimators=100;, score=0.884 total time=  27.4s\n",
            "[CV 1/5] END max_depth=None, min_samples_split=2, n_estimators=200;, score=0.893 total time=  55.6s\n",
            "[CV 2/5] END max_depth=None, min_samples_split=2, n_estimators=200;, score=0.884 total time=  52.5s\n",
            "[CV 3/5] END max_depth=None, min_samples_split=2, n_estimators=200;, score=0.886 total time=  57.4s\n",
            "[CV 4/5] END max_depth=None, min_samples_split=2, n_estimators=200;, score=0.888 total time=  54.0s\n",
            "[CV 5/5] END max_depth=None, min_samples_split=2, n_estimators=200;, score=0.884 total time=  54.7s\n",
            "[CV 1/5] END max_depth=None, min_samples_split=5, n_estimators=50;, score=0.890 total time=  11.7s\n",
            "[CV 2/5] END max_depth=None, min_samples_split=5, n_estimators=50;, score=0.883 total time=  11.4s\n",
            "[CV 3/5] END max_depth=None, min_samples_split=5, n_estimators=50;, score=0.882 total time=  10.9s\n",
            "[CV 4/5] END max_depth=None, min_samples_split=5, n_estimators=50;, score=0.881 total time=  11.0s\n",
            "[CV 5/5] END max_depth=None, min_samples_split=5, n_estimators=50;, score=0.883 total time=  11.1s\n",
            "[CV 1/5] END max_depth=None, min_samples_split=5, n_estimators=100;, score=0.893 total time=  23.1s\n",
            "[CV 2/5] END max_depth=None, min_samples_split=5, n_estimators=100;, score=0.886 total time=  21.3s\n",
            "[CV 3/5] END max_depth=None, min_samples_split=5, n_estimators=100;, score=0.884 total time=  23.9s\n",
            "[CV 4/5] END max_depth=None, min_samples_split=5, n_estimators=100;, score=0.885 total time=  21.1s\n",
            "[CV 5/5] END max_depth=None, min_samples_split=5, n_estimators=100;, score=0.883 total time=  22.3s\n",
            "[CV 1/5] END max_depth=None, min_samples_split=5, n_estimators=200;, score=0.893 total time=  45.6s\n",
            "[CV 2/5] END max_depth=None, min_samples_split=5, n_estimators=200;, score=0.886 total time=  43.3s\n",
            "[CV 3/5] END max_depth=None, min_samples_split=5, n_estimators=200;, score=0.884 total time=  46.9s\n",
            "[CV 4/5] END max_depth=None, min_samples_split=5, n_estimators=200;, score=0.886 total time=  43.7s\n",
            "[CV 5/5] END max_depth=None, min_samples_split=5, n_estimators=200;, score=0.885 total time=  43.1s\n",
            "[CV 1/5] END max_depth=None, min_samples_split=10, n_estimators=50;, score=0.890 total time=   9.1s\n",
            "[CV 2/5] END max_depth=None, min_samples_split=10, n_estimators=50;, score=0.884 total time=   9.7s\n",
            "[CV 3/5] END max_depth=None, min_samples_split=10, n_estimators=50;, score=0.881 total time=  10.1s\n",
            "[CV 4/5] END max_depth=None, min_samples_split=10, n_estimators=50;, score=0.885 total time=   8.7s\n",
            "[CV 5/5] END max_depth=None, min_samples_split=10, n_estimators=50;, score=0.886 total time=   9.6s\n",
            "[CV 1/5] END max_depth=None, min_samples_split=10, n_estimators=100;, score=0.892 total time=  18.8s\n",
            "[CV 2/5] END max_depth=None, min_samples_split=10, n_estimators=100;, score=0.885 total time=  19.0s\n",
            "[CV 3/5] END max_depth=None, min_samples_split=10, n_estimators=100;, score=0.883 total time=  19.5s\n",
            "[CV 4/5] END max_depth=None, min_samples_split=10, n_estimators=100;, score=0.885 total time=  18.1s\n",
            "[CV 5/5] END max_depth=None, min_samples_split=10, n_estimators=100;, score=0.886 total time=  19.2s\n",
            "[CV 1/5] END max_depth=None, min_samples_split=10, n_estimators=200;, score=0.891 total time=  37.7s\n",
            "[CV 2/5] END max_depth=None, min_samples_split=10, n_estimators=200;, score=0.886 total time=  37.2s\n",
            "[CV 3/5] END max_depth=None, min_samples_split=10, n_estimators=200;, score=0.885 total time=  40.2s\n",
            "[CV 4/5] END max_depth=None, min_samples_split=10, n_estimators=200;, score=0.886 total time=  36.1s\n",
            "[CV 5/5] END max_depth=None, min_samples_split=10, n_estimators=200;, score=0.885 total time=  37.1s\n",
            "[CV 1/5] END max_depth=10, min_samples_split=2, n_estimators=50;, score=0.837 total time=   0.7s\n",
            "[CV 2/5] END max_depth=10, min_samples_split=2, n_estimators=50;, score=0.839 total time=   0.7s\n",
            "[CV 3/5] END max_depth=10, min_samples_split=2, n_estimators=50;, score=0.838 total time=   0.8s\n",
            "[CV 4/5] END max_depth=10, min_samples_split=2, n_estimators=50;, score=0.838 total time=   0.7s\n",
            "[CV 5/5] END max_depth=10, min_samples_split=2, n_estimators=50;, score=0.838 total time=   0.7s\n",
            "[CV 1/5] END max_depth=10, min_samples_split=2, n_estimators=100;, score=0.837 total time=   1.4s\n",
            "[CV 2/5] END max_depth=10, min_samples_split=2, n_estimators=100;, score=0.840 total time=   1.4s\n",
            "[CV 3/5] END max_depth=10, min_samples_split=2, n_estimators=100;, score=0.838 total time=   2.2s\n",
            "[CV 4/5] END max_depth=10, min_samples_split=2, n_estimators=100;, score=0.837 total time=   1.9s\n",
            "[CV 5/5] END max_depth=10, min_samples_split=2, n_estimators=100;, score=0.838 total time=   1.3s\n",
            "[CV 1/5] END max_depth=10, min_samples_split=2, n_estimators=200;, score=0.838 total time=   2.8s\n",
            "[CV 2/5] END max_depth=10, min_samples_split=2, n_estimators=200;, score=0.839 total time=   2.6s\n",
            "[CV 3/5] END max_depth=10, min_samples_split=2, n_estimators=200;, score=0.838 total time=   2.9s\n",
            "[CV 4/5] END max_depth=10, min_samples_split=2, n_estimators=200;, score=0.837 total time=   3.9s\n",
            "[CV 5/5] END max_depth=10, min_samples_split=2, n_estimators=200;, score=0.838 total time=   2.7s\n",
            "[CV 1/5] END max_depth=10, min_samples_split=5, n_estimators=50;, score=0.838 total time=   0.7s\n",
            "[CV 2/5] END max_depth=10, min_samples_split=5, n_estimators=50;, score=0.839 total time=   0.6s\n",
            "[CV 3/5] END max_depth=10, min_samples_split=5, n_estimators=50;, score=0.839 total time=   0.8s\n",
            "[CV 4/5] END max_depth=10, min_samples_split=5, n_estimators=50;, score=0.837 total time=   0.7s\n",
            "[CV 5/5] END max_depth=10, min_samples_split=5, n_estimators=50;, score=0.838 total time=   0.7s\n",
            "[CV 1/5] END max_depth=10, min_samples_split=5, n_estimators=100;, score=0.837 total time=   1.4s\n",
            "[CV 2/5] END max_depth=10, min_samples_split=5, n_estimators=100;, score=0.839 total time=   1.2s\n",
            "[CV 3/5] END max_depth=10, min_samples_split=5, n_estimators=100;, score=0.837 total time=   1.4s\n",
            "[CV 4/5] END max_depth=10, min_samples_split=5, n_estimators=100;, score=0.837 total time=   1.9s\n",
            "[CV 5/5] END max_depth=10, min_samples_split=5, n_estimators=100;, score=0.838 total time=   1.9s\n",
            "[CV 1/5] END max_depth=10, min_samples_split=5, n_estimators=200;, score=0.837 total time=   2.8s\n",
            "[CV 2/5] END max_depth=10, min_samples_split=5, n_estimators=200;, score=0.839 total time=   2.5s\n",
            "[CV 3/5] END max_depth=10, min_samples_split=5, n_estimators=200;, score=0.838 total time=   2.9s\n",
            "[CV 4/5] END max_depth=10, min_samples_split=5, n_estimators=200;, score=0.837 total time=   3.1s\n",
            "[CV 5/5] END max_depth=10, min_samples_split=5, n_estimators=200;, score=0.838 total time=   3.5s\n",
            "[CV 1/5] END max_depth=10, min_samples_split=10, n_estimators=50;, score=0.839 total time=   0.7s\n",
            "[CV 2/5] END max_depth=10, min_samples_split=10, n_estimators=50;, score=0.839 total time=   0.6s\n",
            "[CV 3/5] END max_depth=10, min_samples_split=10, n_estimators=50;, score=0.839 total time=   0.7s\n",
            "[CV 4/5] END max_depth=10, min_samples_split=10, n_estimators=50;, score=0.838 total time=   0.7s\n",
            "[CV 5/5] END max_depth=10, min_samples_split=10, n_estimators=50;, score=0.839 total time=   0.6s\n",
            "[CV 1/5] END max_depth=10, min_samples_split=10, n_estimators=100;, score=0.838 total time=   1.4s\n",
            "[CV 2/5] END max_depth=10, min_samples_split=10, n_estimators=100;, score=0.840 total time=   1.2s\n",
            "[CV 3/5] END max_depth=10, min_samples_split=10, n_estimators=100;, score=0.838 total time=   1.4s\n",
            "[CV 4/5] END max_depth=10, min_samples_split=10, n_estimators=100;, score=0.837 total time=   1.3s\n",
            "[CV 5/5] END max_depth=10, min_samples_split=10, n_estimators=100;, score=0.839 total time=   1.6s\n",
            "[CV 1/5] END max_depth=10, min_samples_split=10, n_estimators=200;, score=0.838 total time=   3.7s\n",
            "[CV 2/5] END max_depth=10, min_samples_split=10, n_estimators=200;, score=0.839 total time=   2.4s\n",
            "[CV 3/5] END max_depth=10, min_samples_split=10, n_estimators=200;, score=0.837 total time=   2.8s\n",
            "[CV 4/5] END max_depth=10, min_samples_split=10, n_estimators=200;, score=0.837 total time=   2.5s\n",
            "[CV 5/5] END max_depth=10, min_samples_split=10, n_estimators=200;, score=0.838 total time=   3.2s\n",
            "[CV 1/5] END max_depth=20, min_samples_split=2, n_estimators=50;, score=0.850 total time=   2.1s\n",
            "[CV 2/5] END max_depth=20, min_samples_split=2, n_estimators=50;, score=0.849 total time=   1.4s\n",
            "[CV 3/5] END max_depth=20, min_samples_split=2, n_estimators=50;, score=0.849 total time=   1.5s\n",
            "[CV 4/5] END max_depth=20, min_samples_split=2, n_estimators=50;, score=0.850 total time=   1.4s\n",
            "[CV 5/5] END max_depth=20, min_samples_split=2, n_estimators=50;, score=0.848 total time=   1.4s\n",
            "[CV 1/5] END max_depth=20, min_samples_split=2, n_estimators=100;, score=0.849 total time=   2.9s\n",
            "[CV 2/5] END max_depth=20, min_samples_split=2, n_estimators=100;, score=0.847 total time=   3.2s\n",
            "[CV 3/5] END max_depth=20, min_samples_split=2, n_estimators=100;, score=0.848 total time=   3.8s\n",
            "[CV 4/5] END max_depth=20, min_samples_split=2, n_estimators=100;, score=0.850 total time=   2.7s\n",
            "[CV 5/5] END max_depth=20, min_samples_split=2, n_estimators=100;, score=0.848 total time=   2.7s\n",
            "[CV 1/5] END max_depth=20, min_samples_split=2, n_estimators=200;, score=0.849 total time=   6.9s\n",
            "[CV 2/5] END max_depth=20, min_samples_split=2, n_estimators=200;, score=0.849 total time=   5.4s\n",
            "[CV 3/5] END max_depth=20, min_samples_split=2, n_estimators=200;, score=0.846 total time=   6.5s\n",
            "[CV 4/5] END max_depth=20, min_samples_split=2, n_estimators=200;, score=0.852 total time=   6.3s\n",
            "[CV 5/5] END max_depth=20, min_samples_split=2, n_estimators=200;, score=0.849 total time=   5.4s\n",
            "[CV 1/5] END max_depth=20, min_samples_split=5, n_estimators=50;, score=0.851 total time=   1.5s\n",
            "[CV 2/5] END max_depth=20, min_samples_split=5, n_estimators=50;, score=0.848 total time=   1.9s\n",
            "[CV 3/5] END max_depth=20, min_samples_split=5, n_estimators=50;, score=0.849 total time=   2.0s\n",
            "[CV 4/5] END max_depth=20, min_samples_split=5, n_estimators=50;, score=0.850 total time=   1.3s\n",
            "[CV 5/5] END max_depth=20, min_samples_split=5, n_estimators=50;, score=0.848 total time=   1.3s\n",
            "[CV 1/5] END max_depth=20, min_samples_split=5, n_estimators=100;, score=0.852 total time=   2.7s\n",
            "[CV 2/5] END max_depth=20, min_samples_split=5, n_estimators=100;, score=0.848 total time=   2.5s\n",
            "[CV 3/5] END max_depth=20, min_samples_split=5, n_estimators=100;, score=0.848 total time=   3.3s\n",
            "[CV 4/5] END max_depth=20, min_samples_split=5, n_estimators=100;, score=0.850 total time=   3.4s\n",
            "[CV 5/5] END max_depth=20, min_samples_split=5, n_estimators=100;, score=0.849 total time=   2.5s\n",
            "[CV 1/5] END max_depth=20, min_samples_split=5, n_estimators=200;, score=0.851 total time=   5.5s\n",
            "[CV 2/5] END max_depth=20, min_samples_split=5, n_estimators=200;, score=0.847 total time=   6.3s\n",
            "[CV 3/5] END max_depth=20, min_samples_split=5, n_estimators=200;, score=0.847 total time=   5.7s\n",
            "[CV 4/5] END max_depth=20, min_samples_split=5, n_estimators=200;, score=0.850 total time=   6.0s\n",
            "[CV 5/5] END max_depth=20, min_samples_split=5, n_estimators=200;, score=0.849 total time=   5.6s\n",
            "[CV 1/5] END max_depth=20, min_samples_split=10, n_estimators=50;, score=0.849 total time=   1.3s\n",
            "[CV 2/5] END max_depth=20, min_samples_split=10, n_estimators=50;, score=0.849 total time=   1.2s\n",
            "[CV 3/5] END max_depth=20, min_samples_split=10, n_estimators=50;, score=0.849 total time=   1.4s\n",
            "[CV 4/5] END max_depth=20, min_samples_split=10, n_estimators=50;, score=0.852 total time=   1.2s\n",
            "[CV 5/5] END max_depth=20, min_samples_split=10, n_estimators=50;, score=0.850 total time=   1.4s\n",
            "[CV 1/5] END max_depth=20, min_samples_split=10, n_estimators=100;, score=0.849 total time=   3.6s\n",
            "[CV 2/5] END max_depth=20, min_samples_split=10, n_estimators=100;, score=0.848 total time=   2.3s\n",
            "[CV 3/5] END max_depth=20, min_samples_split=10, n_estimators=100;, score=0.848 total time=   2.7s\n",
            "[CV 4/5] END max_depth=20, min_samples_split=10, n_estimators=100;, score=0.850 total time=   2.4s\n",
            "[CV 5/5] END max_depth=20, min_samples_split=10, n_estimators=100;, score=0.849 total time=   2.6s\n",
            "[CV 1/5] END max_depth=20, min_samples_split=10, n_estimators=200;, score=0.849 total time=   6.4s\n",
            "[CV 2/5] END max_depth=20, min_samples_split=10, n_estimators=200;, score=0.848 total time=   4.7s\n",
            "[CV 3/5] END max_depth=20, min_samples_split=10, n_estimators=200;, score=0.849 total time=   6.7s\n",
            "[CV 4/5] END max_depth=20, min_samples_split=10, n_estimators=200;, score=0.850 total time=   4.9s\n",
            "[CV 5/5] END max_depth=20, min_samples_split=10, n_estimators=200;, score=0.849 total time=   4.8s\n",
            "[CV 1/5] END max_depth=30, min_samples_split=2, n_estimators=50;, score=0.861 total time=   3.5s\n",
            "[CV 2/5] END max_depth=30, min_samples_split=2, n_estimators=50;, score=0.857 total time=   2.3s\n",
            "[CV 3/5] END max_depth=30, min_samples_split=2, n_estimators=50;, score=0.861 total time=   2.4s\n",
            "[CV 4/5] END max_depth=30, min_samples_split=2, n_estimators=50;, score=0.858 total time=   2.2s\n",
            "[CV 5/5] END max_depth=30, min_samples_split=2, n_estimators=50;, score=0.855 total time=   2.2s\n",
            "[CV 1/5] END max_depth=30, min_samples_split=2, n_estimators=100;, score=0.859 total time=   5.9s\n",
            "[CV 2/5] END max_depth=30, min_samples_split=2, n_estimators=100;, score=0.859 total time=   4.3s\n",
            "[CV 3/5] END max_depth=30, min_samples_split=2, n_estimators=100;, score=0.859 total time=   4.8s\n",
            "[CV 4/5] END max_depth=30, min_samples_split=2, n_estimators=100;, score=0.857 total time=   5.7s\n",
            "[CV 5/5] END max_depth=30, min_samples_split=2, n_estimators=100;, score=0.855 total time=   4.3s\n",
            "[CV 1/5] END max_depth=30, min_samples_split=2, n_estimators=200;, score=0.861 total time=  10.6s\n",
            "[CV 2/5] END max_depth=30, min_samples_split=2, n_estimators=200;, score=0.860 total time=   8.9s\n",
            "[CV 3/5] END max_depth=30, min_samples_split=2, n_estimators=200;, score=0.858 total time=  10.6s\n",
            "[CV 4/5] END max_depth=30, min_samples_split=2, n_estimators=200;, score=0.860 total time=  10.0s\n",
            "[CV 5/5] END max_depth=30, min_samples_split=2, n_estimators=200;, score=0.854 total time=   9.5s\n",
            "[CV 1/5] END max_depth=30, min_samples_split=5, n_estimators=50;, score=0.863 total time=   2.6s\n",
            "[CV 2/5] END max_depth=30, min_samples_split=5, n_estimators=50;, score=0.861 total time=   2.0s\n",
            "[CV 3/5] END max_depth=30, min_samples_split=5, n_estimators=50;, score=0.861 total time=   2.3s\n",
            "[CV 4/5] END max_depth=30, min_samples_split=5, n_estimators=50;, score=0.860 total time=   2.0s\n",
            "[CV 5/5] END max_depth=30, min_samples_split=5, n_estimators=50;, score=0.855 total time=   2.0s\n",
            "[CV 1/5] END max_depth=30, min_samples_split=5, n_estimators=100;, score=0.861 total time=   5.5s\n",
            "[CV 2/5] END max_depth=30, min_samples_split=5, n_estimators=100;, score=0.862 total time=   4.0s\n",
            "[CV 3/5] END max_depth=30, min_samples_split=5, n_estimators=100;, score=0.860 total time=   4.4s\n",
            "[CV 4/5] END max_depth=30, min_samples_split=5, n_estimators=100;, score=0.858 total time=   5.3s\n",
            "[CV 5/5] END max_depth=30, min_samples_split=5, n_estimators=100;, score=0.857 total time=   3.9s\n",
            "[CV 1/5] END max_depth=30, min_samples_split=5, n_estimators=200;, score=0.860 total time=   9.8s\n",
            "[CV 2/5] END max_depth=30, min_samples_split=5, n_estimators=200;, score=0.860 total time=   7.9s\n",
            "[CV 3/5] END max_depth=30, min_samples_split=5, n_estimators=200;, score=0.859 total time=  10.0s\n",
            "[CV 4/5] END max_depth=30, min_samples_split=5, n_estimators=200;, score=0.859 total time=   9.2s\n",
            "[CV 5/5] END max_depth=30, min_samples_split=5, n_estimators=200;, score=0.857 total time=   8.2s\n",
            "[CV 1/5] END max_depth=30, min_samples_split=10, n_estimators=50;, score=0.861 total time=   2.0s\n",
            "[CV 2/5] END max_depth=30, min_samples_split=10, n_estimators=50;, score=0.861 total time=   2.4s\n",
            "[CV 3/5] END max_depth=30, min_samples_split=10, n_estimators=50;, score=0.859 total time=   2.8s\n",
            "[CV 4/5] END max_depth=30, min_samples_split=10, n_estimators=50;, score=0.857 total time=   1.9s\n",
            "[CV 5/5] END max_depth=30, min_samples_split=10, n_estimators=50;, score=0.856 total time=   1.8s\n",
            "[CV 1/5] END max_depth=30, min_samples_split=10, n_estimators=100;, score=0.858 total time=   3.9s\n",
            "[CV 2/5] END max_depth=30, min_samples_split=10, n_estimators=100;, score=0.860 total time=   4.5s\n",
            "[CV 3/5] END max_depth=30, min_samples_split=10, n_estimators=100;, score=0.859 total time=   4.6s\n",
            "[CV 4/5] END max_depth=30, min_samples_split=10, n_estimators=100;, score=0.858 total time=   3.7s\n",
            "[CV 5/5] END max_depth=30, min_samples_split=10, n_estimators=100;, score=0.855 total time=   3.8s\n",
            "[CV 1/5] END max_depth=30, min_samples_split=10, n_estimators=200;, score=0.861 total time=   9.0s\n",
            "[CV 2/5] END max_depth=30, min_samples_split=10, n_estimators=200;, score=0.860 total time=   8.6s\n",
            "[CV 3/5] END max_depth=30, min_samples_split=10, n_estimators=200;, score=0.858 total time=   8.2s\n",
            "[CV 4/5] END max_depth=30, min_samples_split=10, n_estimators=200;, score=0.859 total time=   8.7s\n",
            "[CV 5/5] END max_depth=30, min_samples_split=10, n_estimators=200;, score=0.856 total time=   7.4s\n",
            "Best Random Forest Parameters: {'max_depth': None, 'min_samples_split': 2, 'n_estimators': 50}\n",
            "Best Random Forest Cross-Validated Score: 0.8873667281468988\n"
          ]
        }
      ]
    },
    {
      "cell_type": "code",
      "source": [
        "# Step 7: Train Gradient Boosting Model\n",
        "gbc = GradientBoostingClassifier(n_estimators=200, learning_rate=0.1, random_state=42)\n",
        "gbc.fit(X_train_tfidf, y_train)"
      ],
      "metadata": {
        "id": "wLgamZ-7DCTX",
        "colab": {
          "base_uri": "https://localhost:8080/",
          "height": 80
        },
        "outputId": "a2088240-dde2-4c34-b8b8-24655ee43688"
      },
      "execution_count": null,
      "outputs": [
        {
          "output_type": "execute_result",
          "data": {
            "text/plain": [
              "GradientBoostingClassifier(n_estimators=200, random_state=42)"
            ],
            "text/html": [
              "<style>#sk-container-id-2 {\n",
              "  /* Definition of color scheme common for light and dark mode */\n",
              "  --sklearn-color-text: black;\n",
              "  --sklearn-color-line: gray;\n",
              "  /* Definition of color scheme for unfitted estimators */\n",
              "  --sklearn-color-unfitted-level-0: #fff5e6;\n",
              "  --sklearn-color-unfitted-level-1: #f6e4d2;\n",
              "  --sklearn-color-unfitted-level-2: #ffe0b3;\n",
              "  --sklearn-color-unfitted-level-3: chocolate;\n",
              "  /* Definition of color scheme for fitted estimators */\n",
              "  --sklearn-color-fitted-level-0: #f0f8ff;\n",
              "  --sklearn-color-fitted-level-1: #d4ebff;\n",
              "  --sklearn-color-fitted-level-2: #b3dbfd;\n",
              "  --sklearn-color-fitted-level-3: cornflowerblue;\n",
              "\n",
              "  /* Specific color for light theme */\n",
              "  --sklearn-color-text-on-default-background: var(--sg-text-color, var(--theme-code-foreground, var(--jp-content-font-color1, black)));\n",
              "  --sklearn-color-background: var(--sg-background-color, var(--theme-background, var(--jp-layout-color0, white)));\n",
              "  --sklearn-color-border-box: var(--sg-text-color, var(--theme-code-foreground, var(--jp-content-font-color1, black)));\n",
              "  --sklearn-color-icon: #696969;\n",
              "\n",
              "  @media (prefers-color-scheme: dark) {\n",
              "    /* Redefinition of color scheme for dark theme */\n",
              "    --sklearn-color-text-on-default-background: var(--sg-text-color, var(--theme-code-foreground, var(--jp-content-font-color1, white)));\n",
              "    --sklearn-color-background: var(--sg-background-color, var(--theme-background, var(--jp-layout-color0, #111)));\n",
              "    --sklearn-color-border-box: var(--sg-text-color, var(--theme-code-foreground, var(--jp-content-font-color1, white)));\n",
              "    --sklearn-color-icon: #878787;\n",
              "  }\n",
              "}\n",
              "\n",
              "#sk-container-id-2 {\n",
              "  color: var(--sklearn-color-text);\n",
              "}\n",
              "\n",
              "#sk-container-id-2 pre {\n",
              "  padding: 0;\n",
              "}\n",
              "\n",
              "#sk-container-id-2 input.sk-hidden--visually {\n",
              "  border: 0;\n",
              "  clip: rect(1px 1px 1px 1px);\n",
              "  clip: rect(1px, 1px, 1px, 1px);\n",
              "  height: 1px;\n",
              "  margin: -1px;\n",
              "  overflow: hidden;\n",
              "  padding: 0;\n",
              "  position: absolute;\n",
              "  width: 1px;\n",
              "}\n",
              "\n",
              "#sk-container-id-2 div.sk-dashed-wrapped {\n",
              "  border: 1px dashed var(--sklearn-color-line);\n",
              "  margin: 0 0.4em 0.5em 0.4em;\n",
              "  box-sizing: border-box;\n",
              "  padding-bottom: 0.4em;\n",
              "  background-color: var(--sklearn-color-background);\n",
              "}\n",
              "\n",
              "#sk-container-id-2 div.sk-container {\n",
              "  /* jupyter's `normalize.less` sets `[hidden] { display: none; }`\n",
              "     but bootstrap.min.css set `[hidden] { display: none !important; }`\n",
              "     so we also need the `!important` here to be able to override the\n",
              "     default hidden behavior on the sphinx rendered scikit-learn.org.\n",
              "     See: https://github.com/scikit-learn/scikit-learn/issues/21755 */\n",
              "  display: inline-block !important;\n",
              "  position: relative;\n",
              "}\n",
              "\n",
              "#sk-container-id-2 div.sk-text-repr-fallback {\n",
              "  display: none;\n",
              "}\n",
              "\n",
              "div.sk-parallel-item,\n",
              "div.sk-serial,\n",
              "div.sk-item {\n",
              "  /* draw centered vertical line to link estimators */\n",
              "  background-image: linear-gradient(var(--sklearn-color-text-on-default-background), var(--sklearn-color-text-on-default-background));\n",
              "  background-size: 2px 100%;\n",
              "  background-repeat: no-repeat;\n",
              "  background-position: center center;\n",
              "}\n",
              "\n",
              "/* Parallel-specific style estimator block */\n",
              "\n",
              "#sk-container-id-2 div.sk-parallel-item::after {\n",
              "  content: \"\";\n",
              "  width: 100%;\n",
              "  border-bottom: 2px solid var(--sklearn-color-text-on-default-background);\n",
              "  flex-grow: 1;\n",
              "}\n",
              "\n",
              "#sk-container-id-2 div.sk-parallel {\n",
              "  display: flex;\n",
              "  align-items: stretch;\n",
              "  justify-content: center;\n",
              "  background-color: var(--sklearn-color-background);\n",
              "  position: relative;\n",
              "}\n",
              "\n",
              "#sk-container-id-2 div.sk-parallel-item {\n",
              "  display: flex;\n",
              "  flex-direction: column;\n",
              "}\n",
              "\n",
              "#sk-container-id-2 div.sk-parallel-item:first-child::after {\n",
              "  align-self: flex-end;\n",
              "  width: 50%;\n",
              "}\n",
              "\n",
              "#sk-container-id-2 div.sk-parallel-item:last-child::after {\n",
              "  align-self: flex-start;\n",
              "  width: 50%;\n",
              "}\n",
              "\n",
              "#sk-container-id-2 div.sk-parallel-item:only-child::after {\n",
              "  width: 0;\n",
              "}\n",
              "\n",
              "/* Serial-specific style estimator block */\n",
              "\n",
              "#sk-container-id-2 div.sk-serial {\n",
              "  display: flex;\n",
              "  flex-direction: column;\n",
              "  align-items: center;\n",
              "  background-color: var(--sklearn-color-background);\n",
              "  padding-right: 1em;\n",
              "  padding-left: 1em;\n",
              "}\n",
              "\n",
              "\n",
              "/* Toggleable style: style used for estimator/Pipeline/ColumnTransformer box that is\n",
              "clickable and can be expanded/collapsed.\n",
              "- Pipeline and ColumnTransformer use this feature and define the default style\n",
              "- Estimators will overwrite some part of the style using the `sk-estimator` class\n",
              "*/\n",
              "\n",
              "/* Pipeline and ColumnTransformer style (default) */\n",
              "\n",
              "#sk-container-id-2 div.sk-toggleable {\n",
              "  /* Default theme specific background. It is overwritten whether we have a\n",
              "  specific estimator or a Pipeline/ColumnTransformer */\n",
              "  background-color: var(--sklearn-color-background);\n",
              "}\n",
              "\n",
              "/* Toggleable label */\n",
              "#sk-container-id-2 label.sk-toggleable__label {\n",
              "  cursor: pointer;\n",
              "  display: block;\n",
              "  width: 100%;\n",
              "  margin-bottom: 0;\n",
              "  padding: 0.5em;\n",
              "  box-sizing: border-box;\n",
              "  text-align: center;\n",
              "}\n",
              "\n",
              "#sk-container-id-2 label.sk-toggleable__label-arrow:before {\n",
              "  /* Arrow on the left of the label */\n",
              "  content: \"▸\";\n",
              "  float: left;\n",
              "  margin-right: 0.25em;\n",
              "  color: var(--sklearn-color-icon);\n",
              "}\n",
              "\n",
              "#sk-container-id-2 label.sk-toggleable__label-arrow:hover:before {\n",
              "  color: var(--sklearn-color-text);\n",
              "}\n",
              "\n",
              "/* Toggleable content - dropdown */\n",
              "\n",
              "#sk-container-id-2 div.sk-toggleable__content {\n",
              "  max-height: 0;\n",
              "  max-width: 0;\n",
              "  overflow: hidden;\n",
              "  text-align: left;\n",
              "  /* unfitted */\n",
              "  background-color: var(--sklearn-color-unfitted-level-0);\n",
              "}\n",
              "\n",
              "#sk-container-id-2 div.sk-toggleable__content.fitted {\n",
              "  /* fitted */\n",
              "  background-color: var(--sklearn-color-fitted-level-0);\n",
              "}\n",
              "\n",
              "#sk-container-id-2 div.sk-toggleable__content pre {\n",
              "  margin: 0.2em;\n",
              "  border-radius: 0.25em;\n",
              "  color: var(--sklearn-color-text);\n",
              "  /* unfitted */\n",
              "  background-color: var(--sklearn-color-unfitted-level-0);\n",
              "}\n",
              "\n",
              "#sk-container-id-2 div.sk-toggleable__content.fitted pre {\n",
              "  /* unfitted */\n",
              "  background-color: var(--sklearn-color-fitted-level-0);\n",
              "}\n",
              "\n",
              "#sk-container-id-2 input.sk-toggleable__control:checked~div.sk-toggleable__content {\n",
              "  /* Expand drop-down */\n",
              "  max-height: 200px;\n",
              "  max-width: 100%;\n",
              "  overflow: auto;\n",
              "}\n",
              "\n",
              "#sk-container-id-2 input.sk-toggleable__control:checked~label.sk-toggleable__label-arrow:before {\n",
              "  content: \"▾\";\n",
              "}\n",
              "\n",
              "/* Pipeline/ColumnTransformer-specific style */\n",
              "\n",
              "#sk-container-id-2 div.sk-label input.sk-toggleable__control:checked~label.sk-toggleable__label {\n",
              "  color: var(--sklearn-color-text);\n",
              "  background-color: var(--sklearn-color-unfitted-level-2);\n",
              "}\n",
              "\n",
              "#sk-container-id-2 div.sk-label.fitted input.sk-toggleable__control:checked~label.sk-toggleable__label {\n",
              "  background-color: var(--sklearn-color-fitted-level-2);\n",
              "}\n",
              "\n",
              "/* Estimator-specific style */\n",
              "\n",
              "/* Colorize estimator box */\n",
              "#sk-container-id-2 div.sk-estimator input.sk-toggleable__control:checked~label.sk-toggleable__label {\n",
              "  /* unfitted */\n",
              "  background-color: var(--sklearn-color-unfitted-level-2);\n",
              "}\n",
              "\n",
              "#sk-container-id-2 div.sk-estimator.fitted input.sk-toggleable__control:checked~label.sk-toggleable__label {\n",
              "  /* fitted */\n",
              "  background-color: var(--sklearn-color-fitted-level-2);\n",
              "}\n",
              "\n",
              "#sk-container-id-2 div.sk-label label.sk-toggleable__label,\n",
              "#sk-container-id-2 div.sk-label label {\n",
              "  /* The background is the default theme color */\n",
              "  color: var(--sklearn-color-text-on-default-background);\n",
              "}\n",
              "\n",
              "/* On hover, darken the color of the background */\n",
              "#sk-container-id-2 div.sk-label:hover label.sk-toggleable__label {\n",
              "  color: var(--sklearn-color-text);\n",
              "  background-color: var(--sklearn-color-unfitted-level-2);\n",
              "}\n",
              "\n",
              "/* Label box, darken color on hover, fitted */\n",
              "#sk-container-id-2 div.sk-label.fitted:hover label.sk-toggleable__label.fitted {\n",
              "  color: var(--sklearn-color-text);\n",
              "  background-color: var(--sklearn-color-fitted-level-2);\n",
              "}\n",
              "\n",
              "/* Estimator label */\n",
              "\n",
              "#sk-container-id-2 div.sk-label label {\n",
              "  font-family: monospace;\n",
              "  font-weight: bold;\n",
              "  display: inline-block;\n",
              "  line-height: 1.2em;\n",
              "}\n",
              "\n",
              "#sk-container-id-2 div.sk-label-container {\n",
              "  text-align: center;\n",
              "}\n",
              "\n",
              "/* Estimator-specific */\n",
              "#sk-container-id-2 div.sk-estimator {\n",
              "  font-family: monospace;\n",
              "  border: 1px dotted var(--sklearn-color-border-box);\n",
              "  border-radius: 0.25em;\n",
              "  box-sizing: border-box;\n",
              "  margin-bottom: 0.5em;\n",
              "  /* unfitted */\n",
              "  background-color: var(--sklearn-color-unfitted-level-0);\n",
              "}\n",
              "\n",
              "#sk-container-id-2 div.sk-estimator.fitted {\n",
              "  /* fitted */\n",
              "  background-color: var(--sklearn-color-fitted-level-0);\n",
              "}\n",
              "\n",
              "/* on hover */\n",
              "#sk-container-id-2 div.sk-estimator:hover {\n",
              "  /* unfitted */\n",
              "  background-color: var(--sklearn-color-unfitted-level-2);\n",
              "}\n",
              "\n",
              "#sk-container-id-2 div.sk-estimator.fitted:hover {\n",
              "  /* fitted */\n",
              "  background-color: var(--sklearn-color-fitted-level-2);\n",
              "}\n",
              "\n",
              "/* Specification for estimator info (e.g. \"i\" and \"?\") */\n",
              "\n",
              "/* Common style for \"i\" and \"?\" */\n",
              "\n",
              ".sk-estimator-doc-link,\n",
              "a:link.sk-estimator-doc-link,\n",
              "a:visited.sk-estimator-doc-link {\n",
              "  float: right;\n",
              "  font-size: smaller;\n",
              "  line-height: 1em;\n",
              "  font-family: monospace;\n",
              "  background-color: var(--sklearn-color-background);\n",
              "  border-radius: 1em;\n",
              "  height: 1em;\n",
              "  width: 1em;\n",
              "  text-decoration: none !important;\n",
              "  margin-left: 1ex;\n",
              "  /* unfitted */\n",
              "  border: var(--sklearn-color-unfitted-level-1) 1pt solid;\n",
              "  color: var(--sklearn-color-unfitted-level-1);\n",
              "}\n",
              "\n",
              ".sk-estimator-doc-link.fitted,\n",
              "a:link.sk-estimator-doc-link.fitted,\n",
              "a:visited.sk-estimator-doc-link.fitted {\n",
              "  /* fitted */\n",
              "  border: var(--sklearn-color-fitted-level-1) 1pt solid;\n",
              "  color: var(--sklearn-color-fitted-level-1);\n",
              "}\n",
              "\n",
              "/* On hover */\n",
              "div.sk-estimator:hover .sk-estimator-doc-link:hover,\n",
              ".sk-estimator-doc-link:hover,\n",
              "div.sk-label-container:hover .sk-estimator-doc-link:hover,\n",
              ".sk-estimator-doc-link:hover {\n",
              "  /* unfitted */\n",
              "  background-color: var(--sklearn-color-unfitted-level-3);\n",
              "  color: var(--sklearn-color-background);\n",
              "  text-decoration: none;\n",
              "}\n",
              "\n",
              "div.sk-estimator.fitted:hover .sk-estimator-doc-link.fitted:hover,\n",
              ".sk-estimator-doc-link.fitted:hover,\n",
              "div.sk-label-container:hover .sk-estimator-doc-link.fitted:hover,\n",
              ".sk-estimator-doc-link.fitted:hover {\n",
              "  /* fitted */\n",
              "  background-color: var(--sklearn-color-fitted-level-3);\n",
              "  color: var(--sklearn-color-background);\n",
              "  text-decoration: none;\n",
              "}\n",
              "\n",
              "/* Span, style for the box shown on hovering the info icon */\n",
              ".sk-estimator-doc-link span {\n",
              "  display: none;\n",
              "  z-index: 9999;\n",
              "  position: relative;\n",
              "  font-weight: normal;\n",
              "  right: .2ex;\n",
              "  padding: .5ex;\n",
              "  margin: .5ex;\n",
              "  width: min-content;\n",
              "  min-width: 20ex;\n",
              "  max-width: 50ex;\n",
              "  color: var(--sklearn-color-text);\n",
              "  box-shadow: 2pt 2pt 4pt #999;\n",
              "  /* unfitted */\n",
              "  background: var(--sklearn-color-unfitted-level-0);\n",
              "  border: .5pt solid var(--sklearn-color-unfitted-level-3);\n",
              "}\n",
              "\n",
              ".sk-estimator-doc-link.fitted span {\n",
              "  /* fitted */\n",
              "  background: var(--sklearn-color-fitted-level-0);\n",
              "  border: var(--sklearn-color-fitted-level-3);\n",
              "}\n",
              "\n",
              ".sk-estimator-doc-link:hover span {\n",
              "  display: block;\n",
              "}\n",
              "\n",
              "/* \"?\"-specific style due to the `<a>` HTML tag */\n",
              "\n",
              "#sk-container-id-2 a.estimator_doc_link {\n",
              "  float: right;\n",
              "  font-size: 1rem;\n",
              "  line-height: 1em;\n",
              "  font-family: monospace;\n",
              "  background-color: var(--sklearn-color-background);\n",
              "  border-radius: 1rem;\n",
              "  height: 1rem;\n",
              "  width: 1rem;\n",
              "  text-decoration: none;\n",
              "  /* unfitted */\n",
              "  color: var(--sklearn-color-unfitted-level-1);\n",
              "  border: var(--sklearn-color-unfitted-level-1) 1pt solid;\n",
              "}\n",
              "\n",
              "#sk-container-id-2 a.estimator_doc_link.fitted {\n",
              "  /* fitted */\n",
              "  border: var(--sklearn-color-fitted-level-1) 1pt solid;\n",
              "  color: var(--sklearn-color-fitted-level-1);\n",
              "}\n",
              "\n",
              "/* On hover */\n",
              "#sk-container-id-2 a.estimator_doc_link:hover {\n",
              "  /* unfitted */\n",
              "  background-color: var(--sklearn-color-unfitted-level-3);\n",
              "  color: var(--sklearn-color-background);\n",
              "  text-decoration: none;\n",
              "}\n",
              "\n",
              "#sk-container-id-2 a.estimator_doc_link.fitted:hover {\n",
              "  /* fitted */\n",
              "  background-color: var(--sklearn-color-fitted-level-3);\n",
              "}\n",
              "</style><div id=\"sk-container-id-2\" class=\"sk-top-container\"><div class=\"sk-text-repr-fallback\"><pre>GradientBoostingClassifier(n_estimators=200, random_state=42)</pre><b>In a Jupyter environment, please rerun this cell to show the HTML representation or trust the notebook. <br />On GitHub, the HTML representation is unable to render, please try loading this page with nbviewer.org.</b></div><div class=\"sk-container\" hidden><div class=\"sk-item\"><div class=\"sk-estimator fitted sk-toggleable\"><input class=\"sk-toggleable__control sk-hidden--visually\" id=\"sk-estimator-id-2\" type=\"checkbox\" checked><label for=\"sk-estimator-id-2\" class=\"sk-toggleable__label fitted sk-toggleable__label-arrow fitted\">&nbsp;&nbsp;GradientBoostingClassifier<a class=\"sk-estimator-doc-link fitted\" rel=\"noreferrer\" target=\"_blank\" href=\"https://scikit-learn.org/1.5/modules/generated/sklearn.ensemble.GradientBoostingClassifier.html\">?<span>Documentation for GradientBoostingClassifier</span></a><span class=\"sk-estimator-doc-link fitted\">i<span>Fitted</span></span></label><div class=\"sk-toggleable__content fitted\"><pre>GradientBoostingClassifier(n_estimators=200, random_state=42)</pre></div> </div></div></div></div>"
            ]
          },
          "metadata": {},
          "execution_count": 40
        }
      ]
    },
    {
      "cell_type": "code",
      "source": [
        "# Step 8: Model Evaluation - Define Evaluation Function\n",
        "def evaluate_model(y_test, y_pred, model_name):\n",
        "    accuracy = accuracy_score(y_test, y_pred)\n",
        "    precision = precision_score(y_test, y_pred)\n",
        "    recall = recall_score(y_test, y_pred)\n",
        "    f1 = f1_score(y_test, y_pred)\n",
        "    conf_matrix = confusion_matrix(y_test, y_pred)\n",
        "\n",
        "    print(f\"\\nModel: {model_name}\")\n",
        "    print(f\"Accuracy: {accuracy:.2f}\")\n",
        "    print(f\"Precision: {precision:.2f}\")\n",
        "    print(f\"Recall: {recall:.2f}\")\n",
        "    print(f\"F1 Score: {f1:.2f}\")\n",
        "\n",
        "     # Plotting the confusion matrix\n",
        "    sns.heatmap(conf_matrix, annot=True, fmt='d', cmap='Blues')\n",
        "    plt.title(f'Confusion Matrix - {model_name}')\n",
        "    plt.xlabel('Predicted')\n",
        "    plt.ylabel('Actual')\n",
        "    plt.show()\n"
      ],
      "metadata": {
        "id": "qabLXHbhDbC9"
      },
      "execution_count": null,
      "outputs": []
    },
    {
      "cell_type": "code",
      "source": [
        "# Step 9: Evaluate Models\n",
        "# Logistic Regression\n",
        "y_pred_logreg = best_logreg.predict(X_test_tfidf)\n",
        "evaluate_model(y_test, y_pred_logreg, 'Tuned Logistic Regression')\n",
        "\n",
        "# Random Forest\n",
        "y_pred_rf = best_rf.predict(X_test_tfidf)\n",
        "evaluate_model(y_test, y_pred_rf, 'Tuned Random Forest')\n",
        "\n",
        "# Gradient Boosting\n",
        "y_pred_gbc = gbc.predict(X_test_tfidf)\n",
        "evaluate_model(y_test, y_pred_gbc, 'Gradient Boosting')"
      ],
      "metadata": {
        "id": "urtrw6xxDbGJ",
        "colab": {
          "base_uri": "https://localhost:8080/",
          "height": 1000
        },
        "outputId": "638c096c-a6e7-47f8-ca71-316f7c64eb6b"
      },
      "execution_count": null,
      "outputs": [
        {
          "output_type": "stream",
          "name": "stdout",
          "text": [
            "\n",
            "Model: Tuned Logistic Regression\n",
            "Accuracy: 0.90\n",
            "Precision: 0.92\n",
            "Recall: 0.97\n",
            "F1 Score: 0.94\n"
          ]
        },
        {
          "output_type": "display_data",
          "data": {
            "text/plain": [
              "<Figure size 640x480 with 2 Axes>"
            ],
            "image/png": "[encoded data removed]"
          },
          "metadata": {}
        },
        {
          "output_type": "stream",
          "name": "stdout",
          "text": [
            "\n",
            "Model: Tuned Random Forest\n",
            "Accuracy: 0.89\n",
            "Precision: 0.90\n",
            "Recall: 0.97\n",
            "F1 Score: 0.94\n"
          ]
        },
        {
          "output_type": "display_data",
          "data": {
            "text/plain": [
              "<Figure size 640x480 with 2 Axes>"
            ],
            "image/png": "[encoded data removed]"
          },
          "metadata": {}
        },
        {
          "output_type": "stream",
          "name": "stdout",
          "text": [
            "\n",
            "Model: Gradient Boosting\n",
            "Accuracy: 0.88\n",
            "Precision: 0.89\n",
            "Recall: 0.98\n",
            "F1 Score: 0.93\n"
          ]
        },
        {
          "output_type": "display_data",
          "data": {
            "text/plain": [
              "<Figure size 640x480 with 2 Axes>"
            ],
            "image/png": "[encoded data removed]"
          },
          "metadata": {}
        }
      ]
    },
    {
      "cell_type": "code",
      "source": [],
      "metadata": {
        "id": "zDWoyvxFDbJe"
      },
      "execution_count": null,
      "outputs": []
    },
    {
      "cell_type": "code",
      "source": [],
      "metadata": {
        "id": "0g_ulKwR9-BD"
      },
      "execution_count": null,
      "outputs": []
    },
    {
      "cell_type": "code",
      "source": [],
      "metadata": {
        "id": "gFaQ7mGn9-Dv"
      },
      "execution_count": null,
      "outputs": []
    },
    {
      "cell_type": "code",
      "source": [],
      "metadata": {
        "id": "2hRwBME99-G9"
      },
      "execution_count": null,
      "outputs": []
    },
    {
      "cell_type": "code",
      "source": [],
      "metadata": {
        "id": "UvQCmNrA9-Jm"
      },
      "execution_count": null,
      "outputs": []
    },
    {
      "cell_type": "code",
      "source": [],
      "metadata": {
        "id": "ATD3PeSG9-Ma"
      },
      "execution_count": null,
      "outputs": []
    },
    {
      "cell_type": "code",
      "source": [],
      "metadata": {
        "id": "LihlP0fZ9-Pf"
      },
      "execution_count": null,
      "outputs": []
    },
    {
      "cell_type": "code",
      "source": [],
      "metadata": {
        "id": "CKrWmfF49-Sd"
      },
      "execution_count": null,
      "outputs": []
    },
    {
      "cell_type": "code",
      "source": [],
      "metadata": {
        "id": "0UUaLpH89-VH"
      },
      "execution_count": null,
      "outputs": []
    },
    {
      "cell_type": "code",
      "source": [],
      "metadata": {
        "id": "WeyzuaSk9-a-"
      },
      "execution_count": null,
      "outputs": []
    },
    {
      "cell_type": "code",
      "source": [],
      "metadata": {
        "id": "Uf4p_FA79-d1"
      },
      "execution_count": null,
      "outputs": []
    }
  ]
}